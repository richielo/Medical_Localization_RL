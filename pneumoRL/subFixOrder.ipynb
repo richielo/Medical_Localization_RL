{
 "cells": [
  {
   "cell_type": "code",
   "execution_count": 2,
   "metadata": {},
   "outputs": [],
   "source": [
    "import os\n",
    "import sys\n",
    "import pandas as pd"
   ]
  },
  {
   "cell_type": "code",
   "execution_count": 3,
   "metadata": {},
   "outputs": [],
   "source": [
    "submissionDf = pd.read_csv(\"dqn_train_singular2_test_submission.csv\")"
   ]
  },
  {
   "cell_type": "code",
   "execution_count": 10,
   "metadata": {},
   "outputs": [
    {
     "name": "stdout",
     "output_type": "stream",
     "text": [
      "1000\n",
      "1000\n"
     ]
    }
   ],
   "source": [
    "ids = submissionDf[\"patientId\"].tolist()\n",
    "valueStrings = submissionDf[\"PredictionString\"].tolist()\n",
    "print(len(ids))\n",
    "print(len(valueStrings))"
   ]
  },
  {
   "cell_type": "code",
   "execution_count": 11,
   "metadata": {},
   "outputs": [],
   "source": [
    "newValueStrings = []\n",
    "for s in valueStrings:\n",
    "    sToks = s.split(\" \")\n",
    "    newValueStrings.append(sToks[0] + \" \" + sToks[2] +  \" \" + sToks[1] + \" \" + sToks[4] + \" \" + sToks[3])\n",
    "    \n",
    "new_result_dict_list = []\n",
    "for i in range(len(ids)):\n",
    "    result_dict = {}\n",
    "    result_dict[\"patientId\"] = ids[i]\n",
    "    result_dict[\"PredictionString\"] = newValueStrings[i]\n",
    "    new_result_dict_list.append(result_dict)\n",
    "new_result_df = pd.DataFrame(new_result_dict_list)\n",
    "new_result_df.to_csv(\"dqn_train_singular2_test_submission_fixed.csv\", sep=',', encoding='utf-8')"
   ]
  },
  {
   "cell_type": "code",
   "execution_count": null,
   "metadata": {},
   "outputs": [],
   "source": []
  }
 ],
 "metadata": {
  "kernelspec": {
   "display_name": "Python 3",
   "language": "python",
   "name": "python3"
  },
  "language_info": {
   "codemirror_mode": {
    "name": "ipython",
    "version": 3
   },
   "file_extension": ".py",
   "mimetype": "text/x-python",
   "name": "python",
   "nbconvert_exporter": "python",
   "pygments_lexer": "ipython3",
   "version": "3.5.4"
  }
 },
 "nbformat": 4,
 "nbformat_minor": 2
}
